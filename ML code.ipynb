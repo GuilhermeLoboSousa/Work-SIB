{
 "cells": [
  {
   "cell_type": "markdown",
   "source": [
    "Divisão do dataset em treino e em teste."
   ],
   "metadata": {
    "collapsed": false
   },
   "id": "ba56b0ccbec712fe"
  },
  {
   "cell_type": "code",
   "execution_count": null,
   "outputs": [],
   "source": [
    "from sklearn.model_selection import train_test_split\n",
    "\n",
    "X = dataset.drop('Y', axis=1)\n",
    "y = dataset['Y']\n",
    "\n",
    "train_X, train_y, test_X, test_y= train_test_split(X, y, test_size=0.2, random_state=42)"
   ],
   "metadata": {
    "collapsed": false
   },
   "id": "6117480d9ae682c9"
  },
  {
   "cell_type": "markdown",
   "source": [],
   "metadata": {
    "collapsed": false
   },
   "id": "ebc0245b37f0844d"
  },
  {
   "cell_type": "markdown",
   "source": [
    "# Modelos de ML\n",
    "A nossa task, prever o nivel de sinergia entre duas drogas, o que se trata de um problema de regressão, logo só poderemos utilizar modelos que se baseiem em regressão."
   ],
   "metadata": {
    "collapsed": false
   },
   "id": "ed266105c8cfed50"
  },
  {
   "cell_type": "markdown",
   "source": [
    "## Logistical Regression"
   ],
   "metadata": {
    "collapsed": false
   },
   "id": "7169fca407762ef1"
  },
  {
   "cell_type": "code",
   "execution_count": null,
   "outputs": [],
   "source": [
    "from sklearn.linear_model import LogisticRegression\n",
    "from pprint import pprint\n",
    "\n",
    "logreg = LogisticRegression(random_state=45, max_iter=1000)\n",
    "logreg.fit(train_X, train_y)\n",
    "\n",
    "print(f'Accuracy: {logreg.score(test_X, test_y):.2%}')\n",
    "\n",
    "from sklearn.metrics import classification_report, confusion_matrix, roc_auc_score\n",
    "\n",
    "pred_y = logreg.predict(test_X)\n",
    "pprint(classification_report(test_y, pred_y))"
   ],
   "metadata": {
    "collapsed": false
   },
   "id": "fa8c6b13e5198d9f"
  },
  {
   "cell_type": "code",
   "execution_count": null,
   "outputs": [],
   "source": [
    "print('Confusion Matrix:')\n",
    "confusion_matrix(test_y, pred_y)"
   ],
   "metadata": {
    "collapsed": false
   },
   "id": "b29a1d0de3024b60"
  },
  {
   "cell_type": "code",
   "execution_count": null,
   "outputs": [],
   "source": [
    "from matplotlib import pyplot as plt\n",
    "from sklearn.metrics import roc_curve\n",
    "\n",
    "#define metrics\n",
    "y_pred_proba = logreg.predict_proba(test_y)[::,1]\n",
    "fpr, tpr, _ = roc_curve(test_y,  y_pred_proba)\n",
    "auc = roc_auc_score(test_y, y_pred_proba)\n",
    "\n",
    "#create ROC curve\n",
    "plt.plot(fpr,tpr,label=\"AUC=\"+str(auc))\n",
    "plt.ylabel('True Positive Rate')\n",
    "plt.xlabel('False Positive Rate')\n",
    "plt.legend(loc=4)\n",
    "plt.show()"
   ],
   "metadata": {
    "collapsed": false
   },
   "id": "67d69996aecbb78"
  },
  {
   "cell_type": "markdown",
   "source": [
    "## Decision Tree"
   ],
   "metadata": {
    "collapsed": false
   },
   "id": "877cea12ab538e7d"
  },
  {
   "cell_type": "code",
   "execution_count": null,
   "outputs": [],
   "source": [
    "from sklearn.tree import DecisionTreeRegressor\n",
    "\n",
    "dtree = DecisionTreeRegressor(random_state=45)\n",
    "dtree.fit(train_X, train_y)\n",
    "\n",
    "print(f'Accuracy: {dtree.score(test_X, test_y):.2%}')\n",
    "\n",
    "pred_y = dtree.predict(test_X)\n",
    "pprint(classification_report(test_y, pred_y))"
   ],
   "metadata": {
    "collapsed": false
   },
   "id": "10d130271582afea"
  },
  {
   "cell_type": "markdown",
   "source": [
    "## Random Forest"
   ],
   "metadata": {
    "collapsed": false
   },
   "id": "f8d79bf703deb4d0"
  },
  {
   "cell_type": "code",
   "execution_count": null,
   "outputs": [],
   "source": [
    "from sklearn.ensemble import RandomForestRegressor\n",
    "\n",
    "rfc = RandomForestRegressor(random_state=45)\n",
    "rfc.fit(train_X, train_y)\n",
    "\n",
    "print(f'Accuracy: {rfc.score(test_X, test_y):.2%}')\n",
    "\n",
    "pred_y = rfc.predict(test_X)\n",
    "pprint(classification_report(test_y, pred_y))"
   ],
   "metadata": {
    "collapsed": false
   },
   "id": "fcf2d86d8631826b"
  },
  {
   "cell_type": "markdown",
   "source": [
    "## SVR (Support Vector Regression)"
   ],
   "metadata": {
    "collapsed": false
   },
   "id": "a920e00bda91af84"
  },
  {
   "cell_type": "code",
   "execution_count": null,
   "outputs": [],
   "source": [
    "from sklearn.svm import SVR\n",
    "\n",
    "svr = SVR()\n",
    "svr.fit(train_X, train_y)\n",
    "\n",
    "print(f'Accuracy: {svr.score(test_X, test_y):.2%}')\n",
    "\n",
    "pred_y = svr.predict(test_X)\n",
    "pprint(classification_report(test_y, pred_y))"
   ],
   "metadata": {
    "collapsed": false
   },
   "id": "a39232e306108965"
  },
  {
   "cell_type": "markdown",
   "source": [
    "IMPORTANTE: Podemos fazer como está em cima um de cada vez, ou entao, se quisermos treinar e testar todos os modelos de uma vez o prof usou isto na aula 10, ja pus os modelos que vi que deviamos usar, vejam se faz sentido."
   ],
   "metadata": {
    "collapsed": false
   },
   "id": "4fce14139f5ba20f"
  },
  {
   "cell_type": "code",
   "execution_count": null,
   "outputs": [],
   "source": [
    "from sklearn.linear_model import LogisticRegression\n",
    "from sklearn.tree import DecisionTreeRegressor\n",
    "from sklearn.ensemble import RandomForestRegressor\n",
    "from sklearn.svm import SVR\n",
    "\n",
    "\n",
    "models = [LogisticRegression(random_state=42, max_iter=1000),\n",
    "          DecisionTreeRegressor(random_state=42),\n",
    "          RandomForestRegressor(random_state=42),\n",
    "          SVR()]\n",
    "\n",
    "for model in models:\n",
    "    model.fit(train_X, train_y)\n",
    "    print(model.__class__.__name__)\n",
    "    print('Accuracy on test set:', model.score(test_X, test_y))\n",
    "    print('Classification report:\\n', classification_report(test_y, model.predict(test_X)))\n",
    "    print('Confusion matrix:\\n', confusion_matrix(test_y, model.predict(test_X)))\n",
    "    print('ROC AUC score:', roc_auc_score(test_y, model.predict_proba(test_X)[::,1]))\n",
    "    print('-------------------')"
   ],
   "metadata": {
    "collapsed": false
   },
   "id": "c38b95d767bd3e3b"
  }
 ],
 "metadata": {
  "kernelspec": {
   "display_name": "Python 3",
   "language": "python",
   "name": "python3"
  },
  "language_info": {
   "codemirror_mode": {
    "name": "ipython",
    "version": 2
   },
   "file_extension": ".py",
   "mimetype": "text/x-python",
   "name": "python",
   "nbconvert_exporter": "python",
   "pygments_lexer": "ipython2",
   "version": "2.7.6"
  }
 },
 "nbformat": 4,
 "nbformat_minor": 5
}
