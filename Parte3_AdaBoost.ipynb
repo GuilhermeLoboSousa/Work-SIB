{
 "cells": [
  {
   "cell_type": "code",
   "execution_count": 3,
   "outputs": [],
   "source": [
    "import pandas as pd"
   ],
   "metadata": {
    "collapsed": false,
    "ExecuteTime": {
     "end_time": "2024-01-07T08:54:03.324685Z",
     "start_time": "2024-01-07T08:54:03.323198Z"
    }
   },
   "id": "5962fa6f31d61e48"
  },
  {
   "cell_type": "code",
   "execution_count": 4,
   "outputs": [
    {
     "name": "stdout",
     "output_type": "stream",
     "text": [
      "               Y  drug1 MolWt  drug1 HeavyAtomMolWt  drug1 ExactMolWt  \\\n",
      "0       7.693530     4.552044              4.441072          4.549836   \n",
      "1       7.778053     4.552044              4.441072          4.549836   \n",
      "2      -1.198505     4.552044              4.441072          4.549836   \n",
      "3       2.595684     4.552044              4.441072          4.549836   \n",
      "4      -5.139971     4.552044              4.441072          4.549836   \n",
      "...          ...          ...                   ...               ...   \n",
      "19861  10.223066     5.948467              5.475267          5.944298   \n",
      "19862  20.551627     5.948467              5.475267          5.944298   \n",
      "19863  12.190316     5.948467              5.475267          5.944298   \n",
      "19864  23.438547     5.948467              5.475267          5.944298   \n",
      "19865  12.223791     5.948467              5.475267          5.944298   \n",
      "\n",
      "       drug1 BertzCT  drug1 TPSA  morgan drug1 15  morgan drug1 33  \\\n",
      "0          11.258666    2.190289              0.0              0.0   \n",
      "1          11.258666    2.190289              0.0              0.0   \n",
      "2          11.258666    2.190289              0.0              0.0   \n",
      "3          11.258666    2.190289              0.0              0.0   \n",
      "4          11.258666    2.190289              0.0              0.0   \n",
      "...              ...         ...              ...              ...   \n",
      "19861       8.967280    1.585104              0.0              0.0   \n",
      "19862       8.967280    1.585104              0.0              0.0   \n",
      "19863       8.967280    1.585104              0.0              0.0   \n",
      "19864       8.967280    1.585104              0.0              0.0   \n",
      "19865       8.967280    1.585104              0.0              0.0   \n",
      "\n",
      "       morgan drug1 36  morgan drug1 64  ...  Parametro 8775  Parametro 8776  \\\n",
      "0                  0.0              0.0  ...        0.933708        0.433194   \n",
      "1                  0.0              0.0  ...        0.453011        0.868781   \n",
      "2                  0.0              0.0  ...       -0.367088       -0.495932   \n",
      "3                  0.0              0.0  ...        0.852838       -0.152449   \n",
      "4                  0.0              0.0  ...       -1.854093       -2.383995   \n",
      "...                ...              ...  ...             ...             ...   \n",
      "19861              0.0              1.0  ...        0.989373        0.598182   \n",
      "19862              0.0              1.0  ...        0.159920        0.157617   \n",
      "19863              0.0              1.0  ...        0.159920        0.157617   \n",
      "19864              0.0              1.0  ...        0.345755        0.172750   \n",
      "19865              0.0              1.0  ...       -1.854094       -2.383994   \n",
      "\n",
      "       Parametro 8777  Parametro 8778  Parametro 8779  Parametro 8780  \\\n",
      "0           -0.705877       -0.797751        0.494978       -0.239587   \n",
      "1           -0.548668        1.191511        0.947887        0.393898   \n",
      "2           -0.639091       -0.346006       -0.034777       -1.268040   \n",
      "3           -0.653551        0.369509       -0.358118        1.586969   \n",
      "4            0.068724       -0.583244       -2.238896       -1.288220   \n",
      "...               ...             ...             ...             ...   \n",
      "19861       -0.708544       -0.494359       -0.540534       -0.977627   \n",
      "19862        2.134676        2.314793        0.981662       -0.019900   \n",
      "19863        2.134676        2.314793        0.981662       -0.019900   \n",
      "19864       -0.672222       -0.729491        0.774517        0.535449   \n",
      "19865        0.068701       -0.583185       -2.238896       -1.288246   \n",
      "\n",
      "       Parametro 8781  Parametro 8782  Parametro 8783  Parametro 8784  \n",
      "0            1.279730        0.691891       -0.982503       -0.364565  \n",
      "1            1.241226        1.139293       -1.070203       -0.425415  \n",
      "2           -0.277364       -0.423137       -1.065120       -1.002490  \n",
      "3            1.275677        0.621267       -0.365272       -0.818869  \n",
      "4           -1.650908       -1.705543       -0.714340        0.635244  \n",
      "...               ...             ...             ...             ...  \n",
      "19861       -0.762502        0.882945       -1.073682        0.481022  \n",
      "19862        0.278455       -0.374227       -0.073559       -0.217856  \n",
      "19863        0.278455       -0.374227       -0.073559       -0.217856  \n",
      "19864        0.406174       -0.436593        1.207464       -1.522136  \n",
      "19865       -1.650914       -1.705541       -0.714347        0.635266  \n",
      "\n",
      "[19866 rows x 8775 columns]\n"
     ]
    }
   ],
   "source": [
    "path=\"/Users/tiago_silva/Documents/GitHub/Work-SIB/dataset.csv\"\n",
    "data=pd.read_csv(path)\n",
    "print(data)"
   ],
   "metadata": {
    "collapsed": false,
    "ExecuteTime": {
     "end_time": "2024-01-07T08:54:55.214802Z",
     "start_time": "2024-01-07T08:54:03.987274Z"
    }
   },
   "id": "90987adc8f119c31"
  },
  {
   "cell_type": "code",
   "execution_count": 5,
   "outputs": [],
   "source": [
    "y = data[\"Y\"]\n",
    "X = data.drop('Y', axis=1)"
   ],
   "metadata": {
    "collapsed": false,
    "ExecuteTime": {
     "end_time": "2024-01-07T08:56:48.517083Z",
     "start_time": "2024-01-07T08:56:42.884213Z"
    }
   },
   "id": "b3a18ffce6e288ef"
  },
  {
   "cell_type": "code",
   "execution_count": 7,
   "outputs": [],
   "source": [
    "from sklearn.model_selection import train_test_split\n",
    "X_train, X_temp, y_train, y_temp = train_test_split(X, y, test_size=0.3, random_state=42)\n",
    "X_test, X_val, y_test, y_val = train_test_split(X_temp, y_temp, test_size=0.5, random_state=42)"
   ],
   "metadata": {
    "collapsed": false,
    "ExecuteTime": {
     "end_time": "2024-01-07T08:56:58.323883Z",
     "start_time": "2024-01-07T08:56:54.754796Z"
    }
   },
   "id": "bb9c27cd46df0823"
  },
  {
   "cell_type": "code",
   "execution_count": 8,
   "id": "initial_id",
   "metadata": {
    "collapsed": true,
    "ExecuteTime": {
     "end_time": "2024-01-07T09:25:35.309722Z",
     "start_time": "2024-01-07T08:57:07.385073Z"
    }
   },
   "outputs": [
    {
     "name": "stdout",
     "output_type": "stream",
     "text": [
      "{'Model': 'AdaBoost', 'Mean Squared Error': 451.5322563944561, 'R-squared': 0.02926396811017684, 'Mean Absolute Error': 14.460536444248458, ' Root Mean Squared Error': 14.460536444248458}\n"
     ]
    }
   ],
   "source": [
    "from sklearn.metrics import mean_squared_error, r2_score, mean_absolute_error\n",
    "from sklearn.svm import SVR\n",
    "from sklearn.ensemble import AdaBoostRegressor\n",
    "\n",
    "models_to_try = [\n",
    "    ('AdaBoost', AdaBoostRegressor())\n",
    "]\n",
    "\n",
    "results = []\n",
    "\n",
    "for model_name, model in models_to_try:\n",
    "    # Treinamento do modelo\n",
    "    model.fit(X_train, y_train)\n",
    "    \n",
    "    # Avaliação do desempenho no conjunto de validação\n",
    "    y_test_pred = model.predict(X_test)\n",
    "    \n",
    "    # Cálculo das métricas\n",
    "    mse_val = mean_squared_error(y_test, y_test_pred)\n",
    "    r2_val = r2_score(y_test, y_test_pred)\n",
    "    mae_val = mean_absolute_error(y_test, y_test_pred)\n",
    "    rmse_val = mean_squared_error(y_test, y_test_pred, squared=False)\n",
    "    \n",
    "    # Armazenar resultados em um dicionário\n",
    "    model_results = {\n",
    "        'Model': model_name,\n",
    "        'Mean Squared Error': mse_val,\n",
    "        'R-squared': r2_val,\n",
    "        'Mean Absolute Error': mae_val,\n",
    "        ' Root Mean Squared Error': mae_val\n",
    "    }\n",
    "    \n",
    "print(model_results)\n",
    "    # Adicionar os resultados à lista\n",
    "    #results.append(model_results)\n",
    "\n",
    "    # Exibição dos resultados\n",
    "    #print(f'{model_name} - Mean Squared Error (Validation): {mse_val:.2f}')\n",
    "\n",
    "    # Converter a lista de resultados em um DataFrame do pandas (opcional)\n",
    "    #results_df = pd.DataFrame(results)\n",
    "    \n",
    "    # Encontrar o modelo com o menor MSE\n",
    "    #best_model_df = results_df.loc[results_df['Mean Squared Error'].idxmin()]\n",
    "    \n",
    "    # Exibir o melhor modelo\n",
    "    #print(f'\\nMelhor Modelo Escolhido:')\n",
    "    #print(best_model_df)"
   ]
  }
 ],
 "metadata": {
  "kernelspec": {
   "display_name": "Python 3",
   "language": "python",
   "name": "python3"
  },
  "language_info": {
   "codemirror_mode": {
    "name": "ipython",
    "version": 2
   },
   "file_extension": ".py",
   "mimetype": "text/x-python",
   "name": "python",
   "nbconvert_exporter": "python",
   "pygments_lexer": "ipython2",
   "version": "2.7.6"
  }
 },
 "nbformat": 4,
 "nbformat_minor": 5
}
