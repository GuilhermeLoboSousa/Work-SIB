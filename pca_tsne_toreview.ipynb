{
 "cells": [
  {
   "cell_type": "code",
   "execution_count": null,
   "metadata": {},
   "outputs": [],
   "source": [
    "from "
   ]
  },
  {
   "cell_type": "markdown",
   "metadata": {},
   "source": [
    "### Feature Selection\n",
    "\n",
    "We can use multiple feature selection methods with sklearn. Here we will use VarianceThreshold."
   ]
  },
  {
   "cell_type": "code",
   "execution_count": null,
   "metadata": {},
   "outputs": [],
   "source": [
    "from sklearn.feature_selection import VarianceThreshold\n",
    "\n",
    "# select features with variance > 0.01  (selecionar valor , talvez 0.05?)\n",
    "selector = VarianceThreshold(threshold=0.01)\n",
    "selected_descriptors = selector.fit_transform(scaled_descriptors)\n",
    "selected_columns = descriptors.columns[selector.get_support()]\n",
    "selected_descriptors.shape, selected_columns # as we can see, 7 descriptors were removed (208 to 201)"
   ]
  },
  {
   "cell_type": "markdown",
   "metadata": {},
   "source": [
    "## Análise da vaiável independente\n",
    "\n",
    "Sabemos que\n",
    "\n",
    "Y < -10 a interação entre as drogas é antagónica  ( A+B tem menos efeito do que A ou B isoladas)\n",
    "\n",
    "-10 > Y > 10 interação likety aditiva (A+B efeito da droga A + afeito da droga B)\n",
    "\n",
    "Y > 10 interação synergistic  (mais efeitos da droga A e B do que de forma individual)\n",
    "\n",
    "Função para separar os Y no range que se encontram com o objetivo de fazer uma pieplot para mostrar visualmente a % de cada tipo de interação"
   ]
  },
  {
   "cell_type": "code",
   "execution_count": 7,
   "metadata": {},
   "outputs": [
    {
     "ename": "NameError",
     "evalue": "name 'Y' is not defined",
     "output_type": "error",
     "traceback": [
      "\u001b[1;31m---------------------------------------------------------------------------\u001b[0m",
      "\u001b[1;31mNameError\u001b[0m                                 Traceback (most recent call last)",
      "Cell \u001b[1;32mIn[7], line 1\u001b[0m\n\u001b[1;32m----> 1\u001b[0m dataset[\u001b[43mY\u001b[49m] \u001b[38;5;241m=\u001b[39m [\u001b[38;5;241m-\u001b[39m\u001b[38;5;241m10.423\u001b[39m, \u001b[38;5;241m3.435\u001b[39m, \u001b[38;5;241m15.543\u001b[39m, \u001b[38;5;241m4.5\u001b[39m]\n",
      "\u001b[1;31mNameError\u001b[0m: name 'Y' is not defined"
     ]
    }
   ],
   "source": [
    "dataset[Y] = [-10.423, 3.435, 15.543, 4.5]"
   ]
  },
  {
   "cell_type": "code",
   "execution_count": 5,
   "metadata": {},
   "outputs": [
    {
     "ename": "NameError",
     "evalue": "name 'Y' is not defined",
     "output_type": "error",
     "traceback": [
      "\u001b[1;31m---------------------------------------------------------------------------\u001b[0m",
      "\u001b[1;31mNameError\u001b[0m                                 Traceback (most recent call last)",
      "Cell \u001b[1;32mIn[5], line 2\u001b[0m\n\u001b[0;32m      1\u001b[0m new_values \u001b[38;5;241m=\u001b[39m []\n\u001b[1;32m----> 2\u001b[0m \u001b[38;5;28;01mif\u001b[39;00m dataset[\u001b[43mY\u001b[49m] \u001b[38;5;241m<\u001b[39m\u001b[38;5;241m=\u001b[39m \u001b[38;5;241m-\u001b[39m\u001b[38;5;241m10\u001b[39m:\n\u001b[0;32m      3\u001b[0m     new_values\u001b[38;5;241m.\u001b[39mappend(\u001b[38;5;241m-\u001b[39m\u001b[38;5;241m1\u001b[39m)\n\u001b[0;32m      4\u001b[0m \u001b[38;5;28;01mif\u001b[39;00m \u001b[38;5;241m-\u001b[39m\u001b[38;5;241m10\u001b[39m \u001b[38;5;241m>\u001b[39m dataset[Y] \u001b[38;5;241m>\u001b[39m\u001b[38;5;241m=\u001b[39m \u001b[38;5;241m10\u001b[39m:\n",
      "\u001b[1;31mNameError\u001b[0m: name 'Y' is not defined"
     ]
    }
   ],
   "source": [
    "new_values = []\n",
    "if dataset[Y] <= -10:\n",
    "    new_values.append(-1)\n",
    "if -10 > dataset[Y] >= 10:\n",
    "    new_values.append(0)\n",
    "else:\n",
    "    new_values.append(1)\n"
   ]
  },
  {
   "cell_type": "code",
   "execution_count": null,
   "metadata": {},
   "outputs": [],
   "source": [
    "# Conta as ocorrências de cada valor\n",
    "counts = {val: new_values.count(val) for val in set(new_values)}\n",
    "\n",
    "# Prepara os dados para o gráfico de pizza\n",
    "labels = counts.keys()\n",
    "sizes = counts.values()\n",
    "\n",
    "# Cria o gráfico de pizza\n",
    "plt.pie(sizes, labels=labels, autopct='%1.1f%%', startangle=90)\n",
    "plt.axis('equal')  # Garante que o gráfico seja uma pizza perfeita\n",
    "plt.title('Frequência dos valores')\n",
    "plt.show()"
   ]
  },
  {
   "cell_type": "markdown",
   "metadata": {},
   "source": [
    "### TSNE"
   ]
  },
  {
   "cell_type": "code",
   "execution_count": null,
   "metadata": {},
   "outputs": [],
   "source": [
    "# t-SNE\n",
    "from sklearn.manifold import TSNE\n",
    "\n",
    "# create TSNE object\n",
    "tsne_obj = TSNE(n_components=2, perplexity=30, random_state=42)\n",
    "# fit TSNE\n",
    "tsne_obj.fit(selected_descriptors)"
   ]
  },
  {
   "cell_type": "markdown",
   "metadata": {},
   "source": [
    "## PCA"
   ]
  },
  {
   "cell_type": "code",
   "execution_count": null,
   "metadata": {},
   "outputs": [],
   "source": [
    "# PCA (df_scaled apresenta apenas as features selecionadas num dos tópicos anteriores, já normalizadas)\n",
    "from sklearn.decomposition import PCA\n",
    "columns_to_drop = [\"Y\"]\n",
    "df_scaled = df.drop(columns = columns_to_drop, axis = 1)  #usamos apenas as colunas numéricas certo?\n",
    "pca = PCA(n_components=3)\n",
    "pca.fit(df_scaled)\n",
    "\n",
    "\n",
    "n_components = 2\n",
    "pca = PCA(n_components=n_components)\n",
    "pca_result = pca.fit_transform(descriptors_only)\n",
    "\n",
    "\n",
    "# determinar var\n",
    "cumulative_variance_ratio = pca.explained_variance_ratio_.cumsum()\n",
    "print('Var. explicada: %s'% str(pca.explained_variance_ratio_))\n",
    "print('Soma:', sum(pca.explained_variance_ratio_) * 100, '%')\n",
    "\n",
    "\n",
    "#obter as percentagens de variabilidade explicadas por cada PC\n",
    "varia_exp = pca.explained_variance_ratio_\n",
    "matriz_var_exp = np.diag(varia_exp*100)\n",
    "print(matriz_var_exp)\n",
    "\n",
    "# três primeiros PCs\n",
    "pca_scores = pca.transform(df_scaled)[:, :3]\n",
    "\n",
    "# mapa de cores para o plot\n",
    "data_colors = {0: 'green', 1: 'blue'}\n",
    "colors = [data_colors[t] for t in df['Y']]\n",
    "\n",
    "# plot\n",
    "plt.scatter(pca_scores[:, 0], pca_scores[:, 1], c=colors)\n",
    "plt.xlabel('PC1')\n",
    "plt.ylabel('PC2')\n",
    "\n",
    "# legenda\n",
    "handles = []\n",
    "labels = []\n",
    "for data_type, color in data_colors.items():\n",
    "    handles.append(plt.scatter([], [], c=color))\n",
    "    labels.append(data_type)\n",
    "plt.legend(handles, labels, loc='upper right')\n",
    "Var. explicada: [0.46404387 0.22072711 0.14853124]"
   ]
  },
  {
   "cell_type": "code",
   "execution_count": null,
   "metadata": {},
   "outputs": [],
   "source": []
  }
 ],
 "metadata": {
  "kernelspec": {
   "display_name": "base",
   "language": "python",
   "name": "python3"
  },
  "language_info": {
   "name": "python",
   "version": "3.11.4"
  }
 },
 "nbformat": 4,
 "nbformat_minor": 2
}
