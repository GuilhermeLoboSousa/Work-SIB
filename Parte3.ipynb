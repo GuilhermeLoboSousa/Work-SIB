{
 "cells": [
  {
   "cell_type": "markdown",
   "id": "3f95ad60",
   "metadata": {},
   "source": [
    "### Imports"
   ]
  },
  {
   "cell_type": "code",
   "execution_count": 11,
   "id": "0592ff52",
   "metadata": {},
   "outputs": [],
   "source": [
    "import pandas as pd \n",
    "import numpy as np\n",
    "from sklearn.model_selection import train_test_split\n",
    "\n",
    "from sklearn.linear_model import LinearRegression\n",
    "from pprint import pprint\n",
    "\n",
    "from matplotlib import pyplot as plt\n",
    "from sklearn.metrics import roc_curve\n",
    "\n",
    "from sklearn.svm import SVR\n",
    "from sklearn.tree import DecisionTreeRegressor\n",
    "from sklearn.ensemble import RandomForestRegressor\n",
    "from sklearn.svm import SVR\n",
    "from sklearn.model_selection import cross_val_score\n",
    "from sklearn.utils import resample\n",
    "from sklearn.model_selection import RandomizedSearchCV\n",
    "from sklearn.metrics import mean_squared_error\n",
    "from sklearn.model_selection import GridSearchCV\n",
    "import joblib\n",
    "from sklearn.inspection import permutation_importance\n",
    "from sklearn.neighbors import KNeighborsRegressor\n",
    "\n",
    "\n",
    "from sklearn.metrics import f1_score\n",
    "from sklearn.metrics import matthews_corrcoef\n",
    "from sklearn.metrics import confusion_matrix\n",
    "from sklearn.metrics import mean_squared_error, r2_score, mean_absolute_error\n",
    "from sklearn.metrics import ConfusionMatrixDisplay"
   ]
  },
  {
   "cell_type": "markdown",
   "id": "071180f8",
   "metadata": {},
   "source": [
    "Nesta seccção iremos comparar o comportamento de diversos ML models no conjunto de dados, analisar o comportamento dos\n",
    "algoritmos calculando métricas de erro apropriadas e usando métodos de estimação do erro adequado. Por último pretendemos apresentar o melhor modelo."
   ]
  },
  {
   "cell_type": "code",
   "execution_count": 12,
   "id": "8d35f80e",
   "metadata": {},
   "outputs": [
    {
     "ename": "KeyboardInterrupt",
     "evalue": "",
     "output_type": "error",
     "traceback": [
      "\u001b[1;31m---------------------------------------------------------------------------\u001b[0m",
      "\u001b[1;31mKeyboardInterrupt\u001b[0m                         Traceback (most recent call last)",
      "Cell \u001b[1;32mIn[12], line 1\u001b[0m\n\u001b[1;32m----> 1\u001b[0m data\u001b[38;5;241m=\u001b[39m\u001b[43mpd\u001b[49m\u001b[38;5;241;43m.\u001b[39;49m\u001b[43mread_csv\u001b[49m\u001b[43m(\u001b[49m\u001b[38;5;124;43m\"\u001b[39;49m\u001b[38;5;124;43mdataset.csv\u001b[39;49m\u001b[38;5;124;43m\"\u001b[39;49m\u001b[43m)\u001b[49m\n\u001b[0;32m      2\u001b[0m data\n",
      "File \u001b[1;32mc:\\Users\\Fofinha\\anaconda3\\Lib\\site-packages\\pandas\\util\\_decorators.py:211\u001b[0m, in \u001b[0;36mdeprecate_kwarg.<locals>._deprecate_kwarg.<locals>.wrapper\u001b[1;34m(*args, **kwargs)\u001b[0m\n\u001b[0;32m    209\u001b[0m     \u001b[38;5;28;01melse\u001b[39;00m:\n\u001b[0;32m    210\u001b[0m         kwargs[new_arg_name] \u001b[38;5;241m=\u001b[39m new_arg_value\n\u001b[1;32m--> 211\u001b[0m \u001b[38;5;28;01mreturn\u001b[39;00m \u001b[43mfunc\u001b[49m\u001b[43m(\u001b[49m\u001b[38;5;241;43m*\u001b[39;49m\u001b[43margs\u001b[49m\u001b[43m,\u001b[49m\u001b[43m \u001b[49m\u001b[38;5;241;43m*\u001b[39;49m\u001b[38;5;241;43m*\u001b[39;49m\u001b[43mkwargs\u001b[49m\u001b[43m)\u001b[49m\n",
      "File \u001b[1;32mc:\\Users\\Fofinha\\anaconda3\\Lib\\site-packages\\pandas\\util\\_decorators.py:331\u001b[0m, in \u001b[0;36mdeprecate_nonkeyword_arguments.<locals>.decorate.<locals>.wrapper\u001b[1;34m(*args, **kwargs)\u001b[0m\n\u001b[0;32m    325\u001b[0m \u001b[38;5;28;01mif\u001b[39;00m \u001b[38;5;28mlen\u001b[39m(args) \u001b[38;5;241m>\u001b[39m num_allow_args:\n\u001b[0;32m    326\u001b[0m     warnings\u001b[38;5;241m.\u001b[39mwarn(\n\u001b[0;32m    327\u001b[0m         msg\u001b[38;5;241m.\u001b[39mformat(arguments\u001b[38;5;241m=\u001b[39m_format_argument_list(allow_args)),\n\u001b[0;32m    328\u001b[0m         \u001b[38;5;167;01mFutureWarning\u001b[39;00m,\n\u001b[0;32m    329\u001b[0m         stacklevel\u001b[38;5;241m=\u001b[39mfind_stack_level(),\n\u001b[0;32m    330\u001b[0m     )\n\u001b[1;32m--> 331\u001b[0m \u001b[38;5;28;01mreturn\u001b[39;00m \u001b[43mfunc\u001b[49m\u001b[43m(\u001b[49m\u001b[38;5;241;43m*\u001b[39;49m\u001b[43margs\u001b[49m\u001b[43m,\u001b[49m\u001b[43m \u001b[49m\u001b[38;5;241;43m*\u001b[39;49m\u001b[38;5;241;43m*\u001b[39;49m\u001b[43mkwargs\u001b[49m\u001b[43m)\u001b[49m\n",
      "File \u001b[1;32mc:\\Users\\Fofinha\\anaconda3\\Lib\\site-packages\\pandas\\io\\parsers\\readers.py:950\u001b[0m, in \u001b[0;36mread_csv\u001b[1;34m(filepath_or_buffer, sep, delimiter, header, names, index_col, usecols, squeeze, prefix, mangle_dupe_cols, dtype, engine, converters, true_values, false_values, skipinitialspace, skiprows, skipfooter, nrows, na_values, keep_default_na, na_filter, verbose, skip_blank_lines, parse_dates, infer_datetime_format, keep_date_col, date_parser, dayfirst, cache_dates, iterator, chunksize, compression, thousands, decimal, lineterminator, quotechar, quoting, doublequote, escapechar, comment, encoding, encoding_errors, dialect, error_bad_lines, warn_bad_lines, on_bad_lines, delim_whitespace, low_memory, memory_map, float_precision, storage_options)\u001b[0m\n\u001b[0;32m    935\u001b[0m kwds_defaults \u001b[38;5;241m=\u001b[39m _refine_defaults_read(\n\u001b[0;32m    936\u001b[0m     dialect,\n\u001b[0;32m    937\u001b[0m     delimiter,\n\u001b[1;32m   (...)\u001b[0m\n\u001b[0;32m    946\u001b[0m     defaults\u001b[38;5;241m=\u001b[39m{\u001b[38;5;124m\"\u001b[39m\u001b[38;5;124mdelimiter\u001b[39m\u001b[38;5;124m\"\u001b[39m: \u001b[38;5;124m\"\u001b[39m\u001b[38;5;124m,\u001b[39m\u001b[38;5;124m\"\u001b[39m},\n\u001b[0;32m    947\u001b[0m )\n\u001b[0;32m    948\u001b[0m kwds\u001b[38;5;241m.\u001b[39mupdate(kwds_defaults)\n\u001b[1;32m--> 950\u001b[0m \u001b[38;5;28;01mreturn\u001b[39;00m \u001b[43m_read\u001b[49m\u001b[43m(\u001b[49m\u001b[43mfilepath_or_buffer\u001b[49m\u001b[43m,\u001b[49m\u001b[43m \u001b[49m\u001b[43mkwds\u001b[49m\u001b[43m)\u001b[49m\n",
      "File \u001b[1;32mc:\\Users\\Fofinha\\anaconda3\\Lib\\site-packages\\pandas\\io\\parsers\\readers.py:611\u001b[0m, in \u001b[0;36m_read\u001b[1;34m(filepath_or_buffer, kwds)\u001b[0m\n\u001b[0;32m    608\u001b[0m     \u001b[38;5;28;01mreturn\u001b[39;00m parser\n\u001b[0;32m    610\u001b[0m \u001b[38;5;28;01mwith\u001b[39;00m parser:\n\u001b[1;32m--> 611\u001b[0m     \u001b[38;5;28;01mreturn\u001b[39;00m \u001b[43mparser\u001b[49m\u001b[38;5;241;43m.\u001b[39;49m\u001b[43mread\u001b[49m\u001b[43m(\u001b[49m\u001b[43mnrows\u001b[49m\u001b[43m)\u001b[49m\n",
      "File \u001b[1;32mc:\\Users\\Fofinha\\anaconda3\\Lib\\site-packages\\pandas\\io\\parsers\\readers.py:1778\u001b[0m, in \u001b[0;36mTextFileReader.read\u001b[1;34m(self, nrows)\u001b[0m\n\u001b[0;32m   1771\u001b[0m nrows \u001b[38;5;241m=\u001b[39m validate_integer(\u001b[38;5;124m\"\u001b[39m\u001b[38;5;124mnrows\u001b[39m\u001b[38;5;124m\"\u001b[39m, nrows)\n\u001b[0;32m   1772\u001b[0m \u001b[38;5;28;01mtry\u001b[39;00m:\n\u001b[0;32m   1773\u001b[0m     \u001b[38;5;66;03m# error: \"ParserBase\" has no attribute \"read\"\u001b[39;00m\n\u001b[0;32m   1774\u001b[0m     (\n\u001b[0;32m   1775\u001b[0m         index,\n\u001b[0;32m   1776\u001b[0m         columns,\n\u001b[0;32m   1777\u001b[0m         col_dict,\n\u001b[1;32m-> 1778\u001b[0m     ) \u001b[38;5;241m=\u001b[39m \u001b[38;5;28;43mself\u001b[39;49m\u001b[38;5;241;43m.\u001b[39;49m\u001b[43m_engine\u001b[49m\u001b[38;5;241;43m.\u001b[39;49m\u001b[43mread\u001b[49m\u001b[43m(\u001b[49m\u001b[43m  \u001b[49m\u001b[38;5;66;43;03m# type: ignore[attr-defined]\u001b[39;49;00m\n\u001b[0;32m   1779\u001b[0m \u001b[43m        \u001b[49m\u001b[43mnrows\u001b[49m\n\u001b[0;32m   1780\u001b[0m \u001b[43m    \u001b[49m\u001b[43m)\u001b[49m\n\u001b[0;32m   1781\u001b[0m \u001b[38;5;28;01mexcept\u001b[39;00m \u001b[38;5;167;01mException\u001b[39;00m:\n\u001b[0;32m   1782\u001b[0m     \u001b[38;5;28mself\u001b[39m\u001b[38;5;241m.\u001b[39mclose()\n",
      "File \u001b[1;32mc:\\Users\\Fofinha\\anaconda3\\Lib\\site-packages\\pandas\\io\\parsers\\c_parser_wrapper.py:230\u001b[0m, in \u001b[0;36mCParserWrapper.read\u001b[1;34m(self, nrows)\u001b[0m\n\u001b[0;32m    228\u001b[0m \u001b[38;5;28;01mtry\u001b[39;00m:\n\u001b[0;32m    229\u001b[0m     \u001b[38;5;28;01mif\u001b[39;00m \u001b[38;5;28mself\u001b[39m\u001b[38;5;241m.\u001b[39mlow_memory:\n\u001b[1;32m--> 230\u001b[0m         chunks \u001b[38;5;241m=\u001b[39m \u001b[38;5;28;43mself\u001b[39;49m\u001b[38;5;241;43m.\u001b[39;49m\u001b[43m_reader\u001b[49m\u001b[38;5;241;43m.\u001b[39;49m\u001b[43mread_low_memory\u001b[49m\u001b[43m(\u001b[49m\u001b[43mnrows\u001b[49m\u001b[43m)\u001b[49m\n\u001b[0;32m    231\u001b[0m         \u001b[38;5;66;03m# destructive to chunks\u001b[39;00m\n\u001b[0;32m    232\u001b[0m         data \u001b[38;5;241m=\u001b[39m _concatenate_chunks(chunks)\n",
      "File \u001b[1;32mc:\\Users\\Fofinha\\anaconda3\\Lib\\site-packages\\pandas\\_libs\\parsers.pyx:808\u001b[0m, in \u001b[0;36mpandas._libs.parsers.TextReader.read_low_memory\u001b[1;34m()\u001b[0m\n",
      "File \u001b[1;32mc:\\Users\\Fofinha\\anaconda3\\Lib\\site-packages\\pandas\\_libs\\parsers.pyx:890\u001b[0m, in \u001b[0;36mpandas._libs.parsers.TextReader._read_rows\u001b[1;34m()\u001b[0m\n",
      "File \u001b[1;32mc:\\Users\\Fofinha\\anaconda3\\Lib\\site-packages\\pandas\\_libs\\parsers.pyx:1037\u001b[0m, in \u001b[0;36mpandas._libs.parsers.TextReader._convert_column_data\u001b[1;34m()\u001b[0m\n",
      "File \u001b[1;32mc:\\Users\\Fofinha\\anaconda3\\Lib\\site-packages\\pandas\\_libs\\parsers.pyx:1083\u001b[0m, in \u001b[0;36mpandas._libs.parsers.TextReader._convert_tokens\u001b[1;34m()\u001b[0m\n",
      "File \u001b[1;32mc:\\Users\\Fofinha\\anaconda3\\Lib\\site-packages\\pandas\\_libs\\parsers.pyx:1158\u001b[0m, in \u001b[0;36mpandas._libs.parsers.TextReader._convert_with_dtype\u001b[1;34m()\u001b[0m\n",
      "File \u001b[1;32mc:\\Users\\Fofinha\\anaconda3\\Lib\\site-packages\\pandas\\core\\dtypes\\common.py:1433\u001b[0m, in \u001b[0;36mis_extension_array_dtype\u001b[1;34m(arr_or_dtype)\u001b[0m\n\u001b[0;32m   1424\u001b[0m     \u001b[38;5;66;03m# Note: if other EA dtypes are ever held in HybridBlock, exclude those\u001b[39;00m\n\u001b[0;32m   1425\u001b[0m     \u001b[38;5;66;03m#  here too.\u001b[39;00m\n\u001b[0;32m   1426\u001b[0m     \u001b[38;5;66;03m# NB: need to check DatetimeTZDtype and not is_datetime64tz_dtype\u001b[39;00m\n\u001b[0;32m   1427\u001b[0m     \u001b[38;5;66;03m#  to exclude ArrowTimestampUSDtype\u001b[39;00m\n\u001b[0;32m   1428\u001b[0m     \u001b[38;5;28;01mreturn\u001b[39;00m \u001b[38;5;28misinstance\u001b[39m(dtype, ExtensionDtype) \u001b[38;5;129;01mand\u001b[39;00m \u001b[38;5;129;01mnot\u001b[39;00m \u001b[38;5;28misinstance\u001b[39m(\n\u001b[0;32m   1429\u001b[0m         dtype, (DatetimeTZDtype, PeriodDtype)\n\u001b[0;32m   1430\u001b[0m     )\n\u001b[1;32m-> 1433\u001b[0m \u001b[38;5;28;01mdef\u001b[39;00m \u001b[38;5;21mis_extension_array_dtype\u001b[39m(arr_or_dtype) \u001b[38;5;241m-\u001b[39m\u001b[38;5;241m>\u001b[39m \u001b[38;5;28mbool\u001b[39m:\n\u001b[0;32m   1434\u001b[0m \u001b[38;5;250m    \u001b[39m\u001b[38;5;124;03m\"\"\"\u001b[39;00m\n\u001b[0;32m   1435\u001b[0m \u001b[38;5;124;03m    Check if an object is a pandas extension array type.\u001b[39;00m\n\u001b[0;32m   1436\u001b[0m \n\u001b[1;32m   (...)\u001b[0m\n\u001b[0;32m   1476\u001b[0m \u001b[38;5;124;03m    False\u001b[39;00m\n\u001b[0;32m   1477\u001b[0m \u001b[38;5;124;03m    \"\"\"\u001b[39;00m\n\u001b[0;32m   1478\u001b[0m     dtype \u001b[38;5;241m=\u001b[39m \u001b[38;5;28mgetattr\u001b[39m(arr_or_dtype, \u001b[38;5;124m\"\u001b[39m\u001b[38;5;124mdtype\u001b[39m\u001b[38;5;124m\"\u001b[39m, arr_or_dtype)\n",
      "\u001b[1;31mKeyboardInterrupt\u001b[0m: "
     ]
    }
   ],
   "source": [
    "data=pd.read_csv(\"dataset.csv\")\n",
    "data"
   ]
  },
  {
   "cell_type": "code",
   "execution_count": 4,
   "id": "383f1fb5",
   "metadata": {},
   "outputs": [
    {
     "data": {
      "text/html": [
       "<div>\n",
       "<style scoped>\n",
       "    .dataframe tbody tr th:only-of-type {\n",
       "        vertical-align: middle;\n",
       "    }\n",
       "\n",
       "    .dataframe tbody tr th {\n",
       "        vertical-align: top;\n",
       "    }\n",
       "\n",
       "    .dataframe thead th {\n",
       "        text-align: right;\n",
       "    }\n",
       "</style>\n",
       "<table border=\"1\" class=\"dataframe\">\n",
       "  <thead>\n",
       "    <tr style=\"text-align: right;\">\n",
       "      <th></th>\n",
       "      <th>combinações</th>\n",
       "    </tr>\n",
       "  </thead>\n",
       "  <tbody>\n",
       "    <tr>\n",
       "      <th>0</th>\n",
       "      <td>5-FU ABT-888</td>\n",
       "    </tr>\n",
       "    <tr>\n",
       "      <th>1</th>\n",
       "      <td>5-FU ABT-888</td>\n",
       "    </tr>\n",
       "    <tr>\n",
       "      <th>2</th>\n",
       "      <td>5-FU ABT-888</td>\n",
       "    </tr>\n",
       "    <tr>\n",
       "      <th>3</th>\n",
       "      <td>5-FU ABT-888</td>\n",
       "    </tr>\n",
       "    <tr>\n",
       "      <th>4</th>\n",
       "      <td>5-FU ABT-888</td>\n",
       "    </tr>\n",
       "    <tr>\n",
       "      <th>...</th>\n",
       "      <td>...</td>\n",
       "    </tr>\n",
       "    <tr>\n",
       "      <th>19585</th>\n",
       "      <td>ZOLINZA TOPOTECAN</td>\n",
       "    </tr>\n",
       "    <tr>\n",
       "      <th>19586</th>\n",
       "      <td>ZOLINZA TOPOTECAN</td>\n",
       "    </tr>\n",
       "    <tr>\n",
       "      <th>19587</th>\n",
       "      <td>ZOLINZA TOPOTECAN</td>\n",
       "    </tr>\n",
       "    <tr>\n",
       "      <th>19588</th>\n",
       "      <td>ZOLINZA TOPOTECAN</td>\n",
       "    </tr>\n",
       "    <tr>\n",
       "      <th>19589</th>\n",
       "      <td>ZOLINZA TOPOTECAN</td>\n",
       "    </tr>\n",
       "  </tbody>\n",
       "</table>\n",
       "<p>19590 rows × 1 columns</p>\n",
       "</div>"
      ],
      "text/plain": [
       "             combinações\n",
       "0           5-FU ABT-888\n",
       "1           5-FU ABT-888\n",
       "2           5-FU ABT-888\n",
       "3           5-FU ABT-888\n",
       "4           5-FU ABT-888\n",
       "...                  ...\n",
       "19585  ZOLINZA TOPOTECAN\n",
       "19586  ZOLINZA TOPOTECAN\n",
       "19587  ZOLINZA TOPOTECAN\n",
       "19588  ZOLINZA TOPOTECAN\n",
       "19589  ZOLINZA TOPOTECAN\n",
       "\n",
       "[19590 rows x 1 columns]"
      ]
     },
     "execution_count": 4,
     "metadata": {},
     "output_type": "execute_result"
    }
   ],
   "source": [
    "combinacao=pd.read_csv(\"combinacao.csv\")\n",
    "combinacao"
   ]
  },
  {
   "cell_type": "code",
   "execution_count": 5,
   "id": "3b024594",
   "metadata": {},
   "outputs": [
    {
     "data": {
      "text/html": [
       "<div>\n",
       "<style scoped>\n",
       "    .dataframe tbody tr th:only-of-type {\n",
       "        vertical-align: middle;\n",
       "    }\n",
       "\n",
       "    .dataframe tbody tr th {\n",
       "        vertical-align: top;\n",
       "    }\n",
       "\n",
       "    .dataframe thead th {\n",
       "        text-align: right;\n",
       "    }\n",
       "</style>\n",
       "<table border=\"1\" class=\"dataframe\">\n",
       "  <thead>\n",
       "    <tr style=\"text-align: right;\">\n",
       "      <th></th>\n",
       "      <th>Y</th>\n",
       "      <th>Parametro 0</th>\n",
       "      <th>Parametro 1</th>\n",
       "      <th>Parametro 2</th>\n",
       "      <th>Parametro 3</th>\n",
       "      <th>Parametro 4</th>\n",
       "      <th>Parametro 5</th>\n",
       "      <th>Parametro 6</th>\n",
       "      <th>Parametro 7</th>\n",
       "      <th>Parametro 8</th>\n",
       "      <th>...</th>\n",
       "      <th>MACCSKey drug2 151</th>\n",
       "      <th>MACCSKey drug2 152</th>\n",
       "      <th>MACCSKey drug2 153</th>\n",
       "      <th>MACCSKey drug2 154</th>\n",
       "      <th>MACCSKey drug2 155</th>\n",
       "      <th>MACCSKey drug2 157</th>\n",
       "      <th>MACCSKey drug2 159</th>\n",
       "      <th>MACCSKey drug2 160</th>\n",
       "      <th>MACCSKey drug2 162</th>\n",
       "      <th>combinacao</th>\n",
       "    </tr>\n",
       "  </thead>\n",
       "  <tbody>\n",
       "    <tr>\n",
       "      <th>0</th>\n",
       "      <td>7.693530</td>\n",
       "      <td>5.291146</td>\n",
       "      <td>5.040387</td>\n",
       "      <td>5.291146</td>\n",
       "      <td>0.908336</td>\n",
       "      <td>2.514969</td>\n",
       "      <td>5.291146</td>\n",
       "      <td>5.291146</td>\n",
       "      <td>-1.492008</td>\n",
       "      <td>1.143195</td>\n",
       "      <td>...</td>\n",
       "      <td>1.0</td>\n",
       "      <td>0.0</td>\n",
       "      <td>1.0</td>\n",
       "      <td>1.0</td>\n",
       "      <td>0.0</td>\n",
       "      <td>0.0</td>\n",
       "      <td>0.0</td>\n",
       "      <td>1.0</td>\n",
       "      <td>1.0</td>\n",
       "      <td>5-FU ABT-888</td>\n",
       "    </tr>\n",
       "    <tr>\n",
       "      <th>1</th>\n",
       "      <td>7.778053</td>\n",
       "      <td>5.291146</td>\n",
       "      <td>5.040387</td>\n",
       "      <td>5.291146</td>\n",
       "      <td>0.908336</td>\n",
       "      <td>2.514969</td>\n",
       "      <td>5.291146</td>\n",
       "      <td>5.291146</td>\n",
       "      <td>-1.492008</td>\n",
       "      <td>1.143195</td>\n",
       "      <td>...</td>\n",
       "      <td>1.0</td>\n",
       "      <td>0.0</td>\n",
       "      <td>1.0</td>\n",
       "      <td>1.0</td>\n",
       "      <td>0.0</td>\n",
       "      <td>0.0</td>\n",
       "      <td>0.0</td>\n",
       "      <td>1.0</td>\n",
       "      <td>1.0</td>\n",
       "      <td>5-FU ABT-888</td>\n",
       "    </tr>\n",
       "    <tr>\n",
       "      <th>2</th>\n",
       "      <td>-1.198505</td>\n",
       "      <td>5.291146</td>\n",
       "      <td>5.040387</td>\n",
       "      <td>5.291146</td>\n",
       "      <td>0.908336</td>\n",
       "      <td>2.514969</td>\n",
       "      <td>5.291146</td>\n",
       "      <td>5.291146</td>\n",
       "      <td>-1.492008</td>\n",
       "      <td>1.143195</td>\n",
       "      <td>...</td>\n",
       "      <td>1.0</td>\n",
       "      <td>0.0</td>\n",
       "      <td>1.0</td>\n",
       "      <td>1.0</td>\n",
       "      <td>0.0</td>\n",
       "      <td>0.0</td>\n",
       "      <td>0.0</td>\n",
       "      <td>1.0</td>\n",
       "      <td>1.0</td>\n",
       "      <td>5-FU ABT-888</td>\n",
       "    </tr>\n",
       "    <tr>\n",
       "      <th>3</th>\n",
       "      <td>2.595684</td>\n",
       "      <td>5.291146</td>\n",
       "      <td>5.040387</td>\n",
       "      <td>5.291146</td>\n",
       "      <td>0.908336</td>\n",
       "      <td>2.514969</td>\n",
       "      <td>5.291146</td>\n",
       "      <td>5.291146</td>\n",
       "      <td>-1.492008</td>\n",
       "      <td>1.143195</td>\n",
       "      <td>...</td>\n",
       "      <td>1.0</td>\n",
       "      <td>0.0</td>\n",
       "      <td>1.0</td>\n",
       "      <td>1.0</td>\n",
       "      <td>0.0</td>\n",
       "      <td>0.0</td>\n",
       "      <td>0.0</td>\n",
       "      <td>1.0</td>\n",
       "      <td>1.0</td>\n",
       "      <td>5-FU ABT-888</td>\n",
       "    </tr>\n",
       "    <tr>\n",
       "      <th>4</th>\n",
       "      <td>-5.139971</td>\n",
       "      <td>5.291146</td>\n",
       "      <td>5.040387</td>\n",
       "      <td>5.291146</td>\n",
       "      <td>0.908336</td>\n",
       "      <td>2.514969</td>\n",
       "      <td>5.291146</td>\n",
       "      <td>5.291146</td>\n",
       "      <td>-1.492008</td>\n",
       "      <td>1.143195</td>\n",
       "      <td>...</td>\n",
       "      <td>1.0</td>\n",
       "      <td>0.0</td>\n",
       "      <td>1.0</td>\n",
       "      <td>1.0</td>\n",
       "      <td>0.0</td>\n",
       "      <td>0.0</td>\n",
       "      <td>0.0</td>\n",
       "      <td>1.0</td>\n",
       "      <td>1.0</td>\n",
       "      <td>5-FU ABT-888</td>\n",
       "    </tr>\n",
       "    <tr>\n",
       "      <th>...</th>\n",
       "      <td>...</td>\n",
       "      <td>...</td>\n",
       "      <td>...</td>\n",
       "      <td>...</td>\n",
       "      <td>...</td>\n",
       "      <td>...</td>\n",
       "      <td>...</td>\n",
       "      <td>...</td>\n",
       "      <td>...</td>\n",
       "      <td>...</td>\n",
       "      <td>...</td>\n",
       "      <td>...</td>\n",
       "      <td>...</td>\n",
       "      <td>...</td>\n",
       "      <td>...</td>\n",
       "      <td>...</td>\n",
       "      <td>...</td>\n",
       "      <td>...</td>\n",
       "      <td>...</td>\n",
       "      <td>...</td>\n",
       "      <td>...</td>\n",
       "    </tr>\n",
       "    <tr>\n",
       "      <th>19585</th>\n",
       "      <td>10.223066</td>\n",
       "      <td>-0.188995</td>\n",
       "      <td>-0.198397</td>\n",
       "      <td>-0.188995</td>\n",
       "      <td>1.494725</td>\n",
       "      <td>-0.397619</td>\n",
       "      <td>-0.188995</td>\n",
       "      <td>-0.188995</td>\n",
       "      <td>-0.925171</td>\n",
       "      <td>-0.674146</td>\n",
       "      <td>...</td>\n",
       "      <td>0.0</td>\n",
       "      <td>1.0</td>\n",
       "      <td>1.0</td>\n",
       "      <td>1.0</td>\n",
       "      <td>1.0</td>\n",
       "      <td>1.0</td>\n",
       "      <td>1.0</td>\n",
       "      <td>1.0</td>\n",
       "      <td>1.0</td>\n",
       "      <td>ZOLINZA TOPOTECAN</td>\n",
       "    </tr>\n",
       "    <tr>\n",
       "      <th>19586</th>\n",
       "      <td>20.551627</td>\n",
       "      <td>-0.188995</td>\n",
       "      <td>-0.198397</td>\n",
       "      <td>-0.188995</td>\n",
       "      <td>1.494725</td>\n",
       "      <td>-0.397619</td>\n",
       "      <td>-0.188995</td>\n",
       "      <td>-0.188995</td>\n",
       "      <td>-0.925171</td>\n",
       "      <td>-0.674146</td>\n",
       "      <td>...</td>\n",
       "      <td>0.0</td>\n",
       "      <td>1.0</td>\n",
       "      <td>1.0</td>\n",
       "      <td>1.0</td>\n",
       "      <td>1.0</td>\n",
       "      <td>1.0</td>\n",
       "      <td>1.0</td>\n",
       "      <td>1.0</td>\n",
       "      <td>1.0</td>\n",
       "      <td>ZOLINZA TOPOTECAN</td>\n",
       "    </tr>\n",
       "    <tr>\n",
       "      <th>19587</th>\n",
       "      <td>12.190316</td>\n",
       "      <td>-0.188995</td>\n",
       "      <td>-0.198397</td>\n",
       "      <td>-0.188995</td>\n",
       "      <td>1.494725</td>\n",
       "      <td>-0.397619</td>\n",
       "      <td>-0.188995</td>\n",
       "      <td>-0.188995</td>\n",
       "      <td>-0.925171</td>\n",
       "      <td>-0.674146</td>\n",
       "      <td>...</td>\n",
       "      <td>0.0</td>\n",
       "      <td>1.0</td>\n",
       "      <td>1.0</td>\n",
       "      <td>1.0</td>\n",
       "      <td>1.0</td>\n",
       "      <td>1.0</td>\n",
       "      <td>1.0</td>\n",
       "      <td>1.0</td>\n",
       "      <td>1.0</td>\n",
       "      <td>ZOLINZA TOPOTECAN</td>\n",
       "    </tr>\n",
       "    <tr>\n",
       "      <th>19588</th>\n",
       "      <td>23.438547</td>\n",
       "      <td>-0.188995</td>\n",
       "      <td>-0.198397</td>\n",
       "      <td>-0.188995</td>\n",
       "      <td>1.494725</td>\n",
       "      <td>-0.397619</td>\n",
       "      <td>-0.188995</td>\n",
       "      <td>-0.188995</td>\n",
       "      <td>-0.925171</td>\n",
       "      <td>-0.674146</td>\n",
       "      <td>...</td>\n",
       "      <td>0.0</td>\n",
       "      <td>1.0</td>\n",
       "      <td>1.0</td>\n",
       "      <td>1.0</td>\n",
       "      <td>1.0</td>\n",
       "      <td>1.0</td>\n",
       "      <td>1.0</td>\n",
       "      <td>1.0</td>\n",
       "      <td>1.0</td>\n",
       "      <td>ZOLINZA TOPOTECAN</td>\n",
       "    </tr>\n",
       "    <tr>\n",
       "      <th>19589</th>\n",
       "      <td>12.223791</td>\n",
       "      <td>-0.188995</td>\n",
       "      <td>-0.198397</td>\n",
       "      <td>-0.188995</td>\n",
       "      <td>1.494725</td>\n",
       "      <td>-0.397619</td>\n",
       "      <td>-0.188995</td>\n",
       "      <td>-0.188995</td>\n",
       "      <td>-0.925171</td>\n",
       "      <td>-0.674146</td>\n",
       "      <td>...</td>\n",
       "      <td>0.0</td>\n",
       "      <td>1.0</td>\n",
       "      <td>1.0</td>\n",
       "      <td>1.0</td>\n",
       "      <td>1.0</td>\n",
       "      <td>1.0</td>\n",
       "      <td>1.0</td>\n",
       "      <td>1.0</td>\n",
       "      <td>1.0</td>\n",
       "      <td>ZOLINZA TOPOTECAN</td>\n",
       "    </tr>\n",
       "  </tbody>\n",
       "</table>\n",
       "<p>19590 rows × 9594 columns</p>\n",
       "</div>"
      ],
      "text/plain": [
       "               Y  Parametro 0  Parametro 1  Parametro 2  Parametro 3  \\\n",
       "0       7.693530     5.291146     5.040387     5.291146     0.908336   \n",
       "1       7.778053     5.291146     5.040387     5.291146     0.908336   \n",
       "2      -1.198505     5.291146     5.040387     5.291146     0.908336   \n",
       "3       2.595684     5.291146     5.040387     5.291146     0.908336   \n",
       "4      -5.139971     5.291146     5.040387     5.291146     0.908336   \n",
       "...          ...          ...          ...          ...          ...   \n",
       "19585  10.223066    -0.188995    -0.198397    -0.188995     1.494725   \n",
       "19586  20.551627    -0.188995    -0.198397    -0.188995     1.494725   \n",
       "19587  12.190316    -0.188995    -0.198397    -0.188995     1.494725   \n",
       "19588  23.438547    -0.188995    -0.198397    -0.188995     1.494725   \n",
       "19589  12.223791    -0.188995    -0.198397    -0.188995     1.494725   \n",
       "\n",
       "       Parametro 4  Parametro 5  Parametro 6  Parametro 7  Parametro 8  ...  \\\n",
       "0         2.514969     5.291146     5.291146    -1.492008     1.143195  ...   \n",
       "1         2.514969     5.291146     5.291146    -1.492008     1.143195  ...   \n",
       "2         2.514969     5.291146     5.291146    -1.492008     1.143195  ...   \n",
       "3         2.514969     5.291146     5.291146    -1.492008     1.143195  ...   \n",
       "4         2.514969     5.291146     5.291146    -1.492008     1.143195  ...   \n",
       "...            ...          ...          ...          ...          ...  ...   \n",
       "19585    -0.397619    -0.188995    -0.188995    -0.925171    -0.674146  ...   \n",
       "19586    -0.397619    -0.188995    -0.188995    -0.925171    -0.674146  ...   \n",
       "19587    -0.397619    -0.188995    -0.188995    -0.925171    -0.674146  ...   \n",
       "19588    -0.397619    -0.188995    -0.188995    -0.925171    -0.674146  ...   \n",
       "19589    -0.397619    -0.188995    -0.188995    -0.925171    -0.674146  ...   \n",
       "\n",
       "       MACCSKey drug2 151  MACCSKey drug2 152  MACCSKey drug2 153  \\\n",
       "0                     1.0                 0.0                 1.0   \n",
       "1                     1.0                 0.0                 1.0   \n",
       "2                     1.0                 0.0                 1.0   \n",
       "3                     1.0                 0.0                 1.0   \n",
       "4                     1.0                 0.0                 1.0   \n",
       "...                   ...                 ...                 ...   \n",
       "19585                 0.0                 1.0                 1.0   \n",
       "19586                 0.0                 1.0                 1.0   \n",
       "19587                 0.0                 1.0                 1.0   \n",
       "19588                 0.0                 1.0                 1.0   \n",
       "19589                 0.0                 1.0                 1.0   \n",
       "\n",
       "       MACCSKey drug2 154  MACCSKey drug2 155  MACCSKey drug2 157  \\\n",
       "0                     1.0                 0.0                 0.0   \n",
       "1                     1.0                 0.0                 0.0   \n",
       "2                     1.0                 0.0                 0.0   \n",
       "3                     1.0                 0.0                 0.0   \n",
       "4                     1.0                 0.0                 0.0   \n",
       "...                   ...                 ...                 ...   \n",
       "19585                 1.0                 1.0                 1.0   \n",
       "19586                 1.0                 1.0                 1.0   \n",
       "19587                 1.0                 1.0                 1.0   \n",
       "19588                 1.0                 1.0                 1.0   \n",
       "19589                 1.0                 1.0                 1.0   \n",
       "\n",
       "       MACCSKey drug2 159  MACCSKey drug2 160  MACCSKey drug2 162  \\\n",
       "0                     0.0                 1.0                 1.0   \n",
       "1                     0.0                 1.0                 1.0   \n",
       "2                     0.0                 1.0                 1.0   \n",
       "3                     0.0                 1.0                 1.0   \n",
       "4                     0.0                 1.0                 1.0   \n",
       "...                   ...                 ...                 ...   \n",
       "19585                 1.0                 1.0                 1.0   \n",
       "19586                 1.0                 1.0                 1.0   \n",
       "19587                 1.0                 1.0                 1.0   \n",
       "19588                 1.0                 1.0                 1.0   \n",
       "19589                 1.0                 1.0                 1.0   \n",
       "\n",
       "              combinacao  \n",
       "0           5-FU ABT-888  \n",
       "1           5-FU ABT-888  \n",
       "2           5-FU ABT-888  \n",
       "3           5-FU ABT-888  \n",
       "4           5-FU ABT-888  \n",
       "...                  ...  \n",
       "19585  ZOLINZA TOPOTECAN  \n",
       "19586  ZOLINZA TOPOTECAN  \n",
       "19587  ZOLINZA TOPOTECAN  \n",
       "19588  ZOLINZA TOPOTECAN  \n",
       "19589  ZOLINZA TOPOTECAN  \n",
       "\n",
       "[19590 rows x 9594 columns]"
      ]
     },
     "execution_count": 5,
     "metadata": {},
     "output_type": "execute_result"
    }
   ],
   "source": [
    "data[\"combinacao\"]=combinacao[\"combinações\"]\n",
    "data"
   ]
  },
  {
   "cell_type": "markdown",
   "id": "7a06f097",
   "metadata": {},
   "source": [
    "Dividir o dataset em treino, teste, validação - 70,15,15 respetivamente. COm particular atenção para a distribuição estratificada de combinação de drogas"
   ]
  },
  {
   "cell_type": "code",
   "execution_count": 13,
   "id": "d44d2a02",
   "metadata": {},
   "outputs": [
    {
     "name": "stdout",
     "output_type": "stream",
     "text": [
      "Tamanho de X_train: (13713, 9593)\n",
      "Tamanho de X_val: (2938, 9593)\n",
      "Tamanho de X_test: (2939, 9593)\n"
     ]
    }
   ],
   "source": [
    "from sklearn.model_selection import train_test_split\n",
    "\n",
    "X = data.drop('Y', axis=1)\n",
    "y = data['Y']\n",
    "combinacoes = data['combinacao']\n",
    "\n",
    "X_train, X_temp, y_train, y_temp, comb_train, comb_temp = train_test_split(\n",
    "    X, y, combinacoes, test_size=0.3, random_state=42, stratify=combinacoes\n",
    ")\n",
    "\n",
    "X_val, X_test, y_val, y_test, comb_val, comb_test = train_test_split(\n",
    "    X_temp, y_temp, comb_temp, test_size=0.5, random_state=42, stratify=comb_temp\n",
    ")\n",
    "\n",
    "# Resultado\n",
    "print(\"Tamanho de X_train:\", X_train.shape)\n",
    "print(\"Tamanho de X_val:\", X_val.shape)\n",
    "print(\"Tamanho de X_test:\", X_test.shape)\n"
   ]
  },
  {
   "cell_type": "markdown",
   "id": "f3ec6481",
   "metadata": {},
   "source": [
    "Verificar que a proporção de combincação de drogas no dataset validação e teste é a mesma:"
   ]
  },
  {
   "cell_type": "code",
   "execution_count": 14,
   "id": "20ad3328",
   "metadata": {},
   "outputs": [
    {
     "name": "stdout",
     "output_type": "stream",
     "text": [
      "A combinação 'ABT-888 BEZ-235' aparece 6 vezes na coluna 'combinacao'.\n"
     ]
    }
   ],
   "source": [
    "contagem_combinacao = X_val['combinacao'].value_counts()\n",
    "\n",
    "contagem_especifica = contagem_combinacao.get(\"ABT-888 BEZ-235\", 0)\n",
    "\n",
    "print(f\"A combinação 'ABT-888 BEZ-235' aparece {contagem_especifica} vezes na coluna 'combinacao'.\")\n"
   ]
  },
  {
   "cell_type": "code",
   "execution_count": 8,
   "id": "cb35e46c",
   "metadata": {},
   "outputs": [
    {
     "name": "stdout",
     "output_type": "stream",
     "text": [
      "A combinação 'ABT-888 BEZ-235' aparece 5 vezes na coluna 'combinacao'.\n"
     ]
    }
   ],
   "source": [
    "# Supondo que 'combinacao' é o nome da coluna\n",
    "contagem_combinacao = X_test['combinacao'].value_counts()\n",
    "\n",
    "# Agora você pode verificar a contagem específica para a combinação \"ABT-888 BEZ-235\"\n",
    "contagem_especifica = contagem_combinacao.get(\"ABT-888 BEZ-235\", 0)\n",
    "\n",
    "print(f\"A combinação 'ABT-888 BEZ-235' aparece {contagem_especifica} vezes na coluna 'combinacao'.\")"
   ]
  },
  {
   "cell_type": "markdown",
   "id": "2d9d1377",
   "metadata": {},
   "source": [
    "Para realizar o ML , necessitamos de retirar a coluna das combinações de drogas do dataset treino, validação e teste"
   ]
  },
  {
   "cell_type": "code",
   "execution_count": 15,
   "id": "42e43945",
   "metadata": {},
   "outputs": [],
   "source": [
    "X_train = X_train.iloc[:, :-1]\n",
    "X_val = X_val.iloc[:, :-1]\n",
    "X_test = X_test.iloc[:, :-1]"
   ]
  },
  {
   "cell_type": "code",
   "execution_count": 10,
   "id": "397b7df8",
   "metadata": {},
   "outputs": [],
   "source": [
    "X_train.to_csv(\"X_train.csv\", index=False)\n",
    "X_val.to_csv(\"X_val.csv\", index=False)\n",
    "X_test.to_csv(\"X_test.csv\", index=False)\n",
    "y_train.to_csv(\"y_train.csv\", index=False)\n",
    "y_val.to_csv(\"y_val.csv\", index=False)\n",
    "y_test.to_csv(\"y_test.csv\", index=False)"
   ]
  },
  {
   "cell_type": "markdown",
   "id": "ed266105c8cfed50",
   "metadata": {
    "collapsed": false
   },
   "source": [
    "# Modelos de ML\n",
    "A nossa task, prever o nivel de sinergia entre duas drogas, o que se trata de um problema de regressão, logo só poderemos utilizar modelos que se baseiem em regressão."
   ]
  },
  {
   "cell_type": "code",
   "execution_count": 14,
   "id": "3510e4cf",
   "metadata": {},
   "outputs": [
    {
     "name": "stdout",
     "output_type": "stream",
     "text": [
      "Linear Regression - Mean Squared Error (Validation): 258.88\n",
      "Linear Regression - R Squared (Validation): 0.23\n",
      "KNN - Mean Squared Error (Validation): 259.69\n",
      "KNN - R Squared (Validation): 0.23\n",
      "Random Forest - Mean Squared Error (Validation): 168.21\n",
      "Random Forest - R Squared (Validation): 0.50\n",
      "SVM - Mean Squared Error (Validation): 237.46\n",
      "SVM - R Squared (Validation): 0.30\n",
      "AdaBoost - Mean Squared Error (Validation): 265.18\n",
      "AdaBoost - R Squared (Validation): 0.21\n",
      "\n",
      "Melhor Modelo Escolhido:\n",
      "Model                  Random Forest\n",
      "Mean Squared Error        168.209227\n",
      "R-squared                   0.501247\n",
      "Mean Absolute Error         9.185011\n",
      "Name: 2, dtype: object\n"
     ]
    }
   ],
   "source": [
    "from sklearn.metrics import mean_squared_error, r2_score, mean_absolute_error\n",
    "import pandas as pd\n",
    "from sklearn.svm import SVR\n",
    "from sklearn.ensemble import AdaBoostRegressor\n",
    "\n",
    "models_to_try = [\n",
    "    ('Linear Regression', LinearRegression()),\n",
    "    ('KNN', KNeighborsRegressor()),\n",
    "    #('Decision Tree', DecisionTreeRegressor()),\n",
    "    ('Random Forest', RandomForestRegressor()),\n",
    "    ('SVM', SVR()),  # Support Vector Machine para regressão\n",
    "    ('AdaBoost', AdaBoostRegressor())\n",
    "]\n",
    "\n",
    "results = []\n",
    "\n",
    "for model_name, model in models_to_try:\n",
    "    # Treinamento do modelo\n",
    "    model.fit(X_train, y_train)\n",
    "    \n",
    "    # Avaliação do desempenho no conjunto de validação\n",
    "    y_test_pred = model.predict(X_test)\n",
    "    \n",
    "    # Cálculo das métricas\n",
    "    mse_val = mean_squared_error(y_test, y_test_pred)\n",
    "    r2_val = r2_score(y_test, y_test_pred)\n",
    "    mae_val = mean_absolute_error(y_test, y_test_pred)\n",
    "    \n",
    "    # Armazenar resultados em um dicionário\n",
    "    model_results = {\n",
    "        'Model': model_name,\n",
    "        'Mean Squared Error': mse_val,\n",
    "        'R-squared': r2_val,\n",
    "        'Mean Absolute Error': mae_val,\n",
    "    }\n",
    "    \n",
    "    # Adicionar os resultados à lista\n",
    "    results.append(model_results)\n",
    "\n",
    "    # Exibição dos resultados\n",
    "    print(f'{model_name} - Mean Squared Error (Validation): {mse_val:.2f}')\n",
    "    print(f'{model_name} - R Squared (Validation): {r2_val:.2f}')\n",
    "\n",
    "# Converter a lista de resultados em um DataFrame do pandas (opcional)\n",
    "results_df = pd.DataFrame(results)\n",
    "\n",
    "# Encontrar o modelo com o menor MSE\n",
    "best_model_df = results_df.loc[results_df['Mean Squared Error'].idxmin()]\n",
    "\n",
    "# Exibir o melhor modelo\n",
    "print(f'\\nMelhor Modelo Escolhido:')\n",
    "print(best_model_df)\n"
   ]
  },
  {
   "cell_type": "code",
   "execution_count": 16,
   "id": "6953dc32",
   "metadata": {},
   "outputs": [
    {
     "data": {
      "text/plain": [
       "[{'Model': 'Linear Regression',\n",
       "  'Mean Squared Error': 258.8832604608338,\n",
       "  'R-squared': 0.23239112318820554,\n",
       "  'Mean Absolute Error': 11.774471805897516},\n",
       " {'Model': 'KNN',\n",
       "  'Mean Squared Error': 259.68584219178956,\n",
       "  'R-squared': 0.23001140632295924,\n",
       "  'Mean Absolute Error': 11.842198581126864},\n",
       " {'Model': 'Random Forest',\n",
       "  'Mean Squared Error': 168.20922749875382,\n",
       "  'R-squared': 0.5012466392772726,\n",
       "  'Mean Absolute Error': 9.185011392752543},\n",
       " {'Model': 'SVM',\n",
       "  'Mean Squared Error': 237.45851034130567,\n",
       "  'R-squared': 0.2959171632494648,\n",
       "  'Mean Absolute Error': 10.93998834874469},\n",
       " {'Model': 'AdaBoost',\n",
       "  'Mean Squared Error': 265.1846913533264,\n",
       "  'R-squared': 0.2137068935432178,\n",
       "  'Mean Absolute Error': 12.027491938130904}]"
      ]
     },
     "execution_count": 16,
     "metadata": {},
     "output_type": "execute_result"
    }
   ],
   "source": [
    "results"
   ]
  },
  {
   "cell_type": "markdown",
   "id": "f15086c0",
   "metadata": {},
   "source": [
    "O melhor modelo obtido foi o Random Forest, tendo em conta a métrica de R-squared, que quantifica o quanto a variação na variável de resposta pode ser explicada pelas variáveis explicativas no modelo. Comparando com o artigo de DeepSynergy, que usa como métrica MSE, métrica para avaliar a qualidade de um modelo de regressão, medindo a média dos quadrados dos erros entre os valores previstos pelo modelo e os valores reais observados, sendo que quanto menor o MSE, melhor o modelo está em termos de ajuste aos dados, obtivemos um resultado inferior (MSE = 168,209) comparativamente ao artigo (MSE = 255)"
   ]
  },
  {
   "cell_type": "markdown",
   "id": "eded57b3",
   "metadata": {},
   "source": [
    "# ensemble voting"
   ]
  },
  {
   "cell_type": "code",
   "execution_count": 15,
   "id": "61f359f3",
   "metadata": {},
   "outputs": [
    {
     "name": "stdout",
     "output_type": "stream",
     "text": [
      "Ensemble - Mean Squared Error (Validation): 203.64\n",
      "Ensemble - R-squared (Validation): 0.40\n",
      "Ensemble - Mean Absolute Error (Validation): 10.18\n"
     ]
    }
   ],
   "source": [
    "from sklearn.ensemble import VotingRegressor\n",
    "from sklearn.metrics import mean_squared_error, r2_score, mean_absolute_error\n",
    "\n",
    "# Escolha os modelos que deseja incluir no ensemble\n",
    "model_linear = LinearRegression()\n",
    "model_rf =  RandomForestRegressor()\n",
    "model_svm = SVR()\n",
    "\n",
    "\n",
    "# Crie um ensemble utilizando a média das previsões dos modelos\n",
    "ensemble_model = VotingRegressor(estimators=[\n",
    "    ('Linear Regression', model_linear),\n",
    "    ('Random Forest', model_rf),\n",
    "    ('Support Vector Machine', model_svm)\n",
    "])\n",
    "\n",
    "# Treine o ensemble\n",
    "ensemble_model.fit(X_train, y_train)\n",
    "\n",
    "# Faça previsões usando o ensemble\n",
    "y_pred_ensemble = ensemble_model.predict(X_test)\n",
    "\n",
    "# Avalie o desempenho do ensemble\n",
    "mse_ensemble = mean_squared_error(y_test, y_pred_ensemble)\n",
    "r2_ensemble = r2_score(y_test, y_pred_ensemble)\n",
    "mae_ensemble = mean_absolute_error(y_test, y_pred_ensemble)\n",
    "\n",
    "# Exiba os resultados do ensemble\n",
    "print(f'Ensemble - Mean Squared Error (Validation): {mse_ensemble:.2f}')\n",
    "print(f'Ensemble - R-squared (Validation): {r2_ensemble:.2f}')\n",
    "print(f'Ensemble - Mean Absolute Error (Validation): {mae_ensemble:.2f}')\n"
   ]
  },
  {
   "cell_type": "markdown",
   "id": "3569e8d9",
   "metadata": {},
   "source": [
    "# Exploração de hiperparametros do melhor modelo"
   ]
  },
  {
   "cell_type": "markdown",
   "id": "4eeb95b4",
   "metadata": {},
   "source": [
    "A nossa estratégia passou por treinar e avaliar um conjunto de modelos tendo em conta o dataset treino e teste , para depois utilizar o dataset da validação para otimizar os parametros do modelo que anteriormente deu melhores resultados. "
   ]
  },
  {
   "cell_type": "code",
   "execution_count": 16,
   "id": "f1c77b9c",
   "metadata": {},
   "outputs": [
    {
     "name": "stdout",
     "output_type": "stream",
     "text": [
      "Mean Squared Error (Test - Final): 172.64\n",
      "Mean Absolute Error (Test - Final): 9.33\n",
      " Rsquared (Test - Final): 0.49\n"
     ]
    }
   ],
   "source": [
    "from sklearn.model_selection import train_test_split, GridSearchCV\n",
    "from sklearn.ensemble import RandomForestRegressor\n",
    "from sklearn.metrics import mean_squared_error\n",
    "\n",
    "\n",
    "param_grid = {'n_estimators': [10, 50], 'max_depth': [None, 10], 'min_samples_split': [2, 5]}\n",
    "grid_search = GridSearchCV(RandomForestRegressor(), param_grid, cv=3, scoring='neg_mean_squared_error')\n",
    "grid_search.fit(X_val, y_val)\n",
    "best_model = grid_search.best_estimator_\n",
    "\n",
    "best_model.fit(X_train, y_train)\n",
    "\n",
    "y_pred_test_final = best_model.predict(X_test)\n",
    "mse_test_final =mean_squared_error(y_test, y_pred_test_final)\n",
    "r2_test_final = r2_score(y_test, y_pred_test_final)\n",
    "mae_test_final= mean_absolute_error(y_test, y_pred_test_final)\n",
    "print(f'Mean Squared Error (Test - Final): {mse_test_final:.2f}')\n",
    "print(f'Mean Absolute Error (Test - Final): {mae_test_final:.2f}')\n",
    "print(f' Rsquared (Test - Final): {r2_test_final:.2f}')\n"
   ]
  },
  {
   "cell_type": "code",
   "execution_count": 17,
   "id": "48e29e42",
   "metadata": {},
   "outputs": [
    {
     "data": {
      "text/html": [
       "<style>#sk-container-id-1 {color: black;background-color: white;}#sk-container-id-1 pre{padding: 0;}#sk-container-id-1 div.sk-toggleable {background-color: white;}#sk-container-id-1 label.sk-toggleable__label {cursor: pointer;display: block;width: 100%;margin-bottom: 0;padding: 0.3em;box-sizing: border-box;text-align: center;}#sk-container-id-1 label.sk-toggleable__label-arrow:before {content: \"▸\";float: left;margin-right: 0.25em;color: #696969;}#sk-container-id-1 label.sk-toggleable__label-arrow:hover:before {color: black;}#sk-container-id-1 div.sk-estimator:hover label.sk-toggleable__label-arrow:before {color: black;}#sk-container-id-1 div.sk-toggleable__content {max-height: 0;max-width: 0;overflow: hidden;text-align: left;background-color: #f0f8ff;}#sk-container-id-1 div.sk-toggleable__content pre {margin: 0.2em;color: black;border-radius: 0.25em;background-color: #f0f8ff;}#sk-container-id-1 input.sk-toggleable__control:checked~div.sk-toggleable__content {max-height: 200px;max-width: 100%;overflow: auto;}#sk-container-id-1 input.sk-toggleable__control:checked~label.sk-toggleable__label-arrow:before {content: \"▾\";}#sk-container-id-1 div.sk-estimator input.sk-toggleable__control:checked~label.sk-toggleable__label {background-color: #d4ebff;}#sk-container-id-1 div.sk-label input.sk-toggleable__control:checked~label.sk-toggleable__label {background-color: #d4ebff;}#sk-container-id-1 input.sk-hidden--visually {border: 0;clip: rect(1px 1px 1px 1px);clip: rect(1px, 1px, 1px, 1px);height: 1px;margin: -1px;overflow: hidden;padding: 0;position: absolute;width: 1px;}#sk-container-id-1 div.sk-estimator {font-family: monospace;background-color: #f0f8ff;border: 1px dotted black;border-radius: 0.25em;box-sizing: border-box;margin-bottom: 0.5em;}#sk-container-id-1 div.sk-estimator:hover {background-color: #d4ebff;}#sk-container-id-1 div.sk-parallel-item::after {content: \"\";width: 100%;border-bottom: 1px solid gray;flex-grow: 1;}#sk-container-id-1 div.sk-label:hover label.sk-toggleable__label {background-color: #d4ebff;}#sk-container-id-1 div.sk-serial::before {content: \"\";position: absolute;border-left: 1px solid gray;box-sizing: border-box;top: 0;bottom: 0;left: 50%;z-index: 0;}#sk-container-id-1 div.sk-serial {display: flex;flex-direction: column;align-items: center;background-color: white;padding-right: 0.2em;padding-left: 0.2em;position: relative;}#sk-container-id-1 div.sk-item {position: relative;z-index: 1;}#sk-container-id-1 div.sk-parallel {display: flex;align-items: stretch;justify-content: center;background-color: white;position: relative;}#sk-container-id-1 div.sk-item::before, #sk-container-id-1 div.sk-parallel-item::before {content: \"\";position: absolute;border-left: 1px solid gray;box-sizing: border-box;top: 0;bottom: 0;left: 50%;z-index: -1;}#sk-container-id-1 div.sk-parallel-item {display: flex;flex-direction: column;z-index: 1;position: relative;background-color: white;}#sk-container-id-1 div.sk-parallel-item:first-child::after {align-self: flex-end;width: 50%;}#sk-container-id-1 div.sk-parallel-item:last-child::after {align-self: flex-start;width: 50%;}#sk-container-id-1 div.sk-parallel-item:only-child::after {width: 0;}#sk-container-id-1 div.sk-dashed-wrapped {border: 1px dashed gray;margin: 0 0.4em 0.5em 0.4em;box-sizing: border-box;padding-bottom: 0.4em;background-color: white;}#sk-container-id-1 div.sk-label label {font-family: monospace;font-weight: bold;display: inline-block;line-height: 1.2em;}#sk-container-id-1 div.sk-label-container {text-align: center;}#sk-container-id-1 div.sk-container {/* jupyter's `normalize.less` sets `[hidden] { display: none; }` but bootstrap.min.css set `[hidden] { display: none !important; }` so we also need the `!important` here to be able to override the default hidden behavior on the sphinx rendered scikit-learn.org. See: https://github.com/scikit-learn/scikit-learn/issues/21755 */display: inline-block !important;position: relative;}#sk-container-id-1 div.sk-text-repr-fallback {display: none;}</style><div id=\"sk-container-id-1\" class=\"sk-top-container\"><div class=\"sk-text-repr-fallback\"><pre>RandomForestRegressor(min_samples_split=5, n_estimators=50)</pre><b>In a Jupyter environment, please rerun this cell to show the HTML representation or trust the notebook. <br />On GitHub, the HTML representation is unable to render, please try loading this page with nbviewer.org.</b></div><div class=\"sk-container\" hidden><div class=\"sk-item\"><div class=\"sk-estimator sk-toggleable\"><input class=\"sk-toggleable__control sk-hidden--visually\" id=\"sk-estimator-id-1\" type=\"checkbox\" checked><label for=\"sk-estimator-id-1\" class=\"sk-toggleable__label sk-toggleable__label-arrow\">RandomForestRegressor</label><div class=\"sk-toggleable__content\"><pre>RandomForestRegressor(min_samples_split=5, n_estimators=50)</pre></div></div></div></div></div>"
      ],
      "text/plain": [
       "RandomForestRegressor(min_samples_split=5, n_estimators=50)"
      ]
     },
     "execution_count": 17,
     "metadata": {},
     "output_type": "execute_result"
    }
   ],
   "source": [
    "best_model"
   ]
  },
  {
   "cell_type": "markdown",
   "id": "8301a11b",
   "metadata": {},
   "source": [
    "## Model interpretation\n",
    "\n",
    "scikit-learn provides multiple methods for model interpretation. Here we will see feature importance and permutation importance.\n"
   ]
  },
  {
   "cell_type": "code",
   "execution_count": 26,
   "id": "84d6a036",
   "metadata": {},
   "outputs": [],
   "source": [
    "X = X.drop('combinacao', axis = 1)"
   ]
  },
  {
   "cell_type": "code",
   "execution_count": 27,
   "id": "268a7eb5",
   "metadata": {},
   "outputs": [
    {
     "name": "stdout",
     "output_type": "stream",
     "text": [
      "Shape do conjunto de características após aplicar o Variance Threshold: (19590, 9592)\n",
      "Colunas selecionadas: Index(['Parametro 0', 'Parametro 1', 'Parametro 2', 'Parametro 3',\n",
      "       'Parametro 4', 'Parametro 5', 'Parametro 6', 'Parametro 7',\n",
      "       'Parametro 8', 'Parametro 9',\n",
      "       ...\n",
      "       'MACCSKey drug2 150', 'MACCSKey drug2 151', 'MACCSKey drug2 152',\n",
      "       'MACCSKey drug2 153', 'MACCSKey drug2 154', 'MACCSKey drug2 155',\n",
      "       'MACCSKey drug2 157', 'MACCSKey drug2 159', 'MACCSKey drug2 160',\n",
      "       'MACCSKey drug2 162'],\n",
      "      dtype='object', length=9592)\n"
     ]
    }
   ],
   "source": [
    "from sklearn.feature_selection import VarianceThreshold\n",
    "\n",
    "# Supondo que X é o seu conjunto de características\n",
    "selector = VarianceThreshold(threshold=0.000000000001)\n",
    "selected_X = selector.fit_transform(X)\n",
    "selected_columns = X.columns[selector.get_support()]\n",
    "\n",
    "print(\"Shape do conjunto de características após aplicar o Variance Threshold:\", selected_X.shape)\n",
    "print(\"Colunas selecionadas:\", selected_columns)"
   ]
  },
  {
   "cell_type": "markdown",
   "id": "915c87d5",
   "metadata": {},
   "source": [
    "Existem features que apresentam mais importantes do que outras, no entanto não é uma diferença relevante, o que faz sentido o dataset termos um dataset tão composto e completo."
   ]
  },
  {
   "cell_type": "code",
   "execution_count": 28,
   "id": "06ae9368",
   "metadata": {},
   "outputs": [
    {
     "data": {
      "image/png": "[encoded data removed]",
      "text/plain": [
       "<Figure size 640x480 with 1 Axes>"
      ]
     },
     "metadata": {},
     "output_type": "display_data"
    }
   ],
   "source": [
    "# Model interpretation\n",
    "# feature importance\n",
    "\n",
    "rf = best_model\n",
    "rf.fit(X_train, y_train)\n",
    "rf.feature_importances_\n",
    "\n",
    "# plot feature importance\n",
    "importances = pd.Series(rf.feature_importances_, index=selected_columns)  #este selected columns vão ser as selecionadas na feature selection, mas como não está importado não lê esta variável\n",
    "importances.nlargest(10).plot(kind='barh')\n",
    "plt.show()"
   ]
  },
  {
   "cell_type": "code",
   "execution_count": 12,
   "id": "b25d2483",
   "metadata": {},
   "outputs": [
    {
     "data": {
      "image/png": "[encoded data removed]",
      "text/plain": [
       "<Figure size 640x480 with 1 Axes>"
      ]
     },
     "metadata": {},
     "output_type": "display_data"
    }
   ],
   "source": [
    "# feature importance based on permutation importance\n",
    "\n",
    "perm_importance = permutation_importance(rf, X_test, y_test)\n",
    "sorted_idx = perm_importance.importances_mean.argsort()\n",
    "plt.barh(selected_columns[sorted_idx[:10]], perm_importance.importances_mean[sorted_idx[:10]])\n",
    "plt.xlabel(\"Permutation Importance\")\n",
    "plt.show()"
   ]
  },
  {
   "cell_type": "code",
   "execution_count": 13,
   "id": "ea5cb8a5",
   "metadata": {},
   "outputs": [
    {
     "data": {
      "image/png": "[encoded data removed]",
      "text/plain": [
       "<Figure size 640x480 with 1 Axes>"
      ]
     },
     "metadata": {},
     "output_type": "display_data"
    }
   ],
   "source": [
    "\n",
    "pos_neg_idx = np.concatenate((sorted_idx[:10], sorted_idx[-10:]))\n",
    "plt.barh(selected_columns[pos_neg_idx], perm_importance.importances_mean[pos_neg_idx])\n",
    "plt.xlabel(\"Permutation Importance\")\n",
    "plt.show()"
   ]
  },
  {
   "cell_type": "markdown",
   "id": "4aa6885b",
   "metadata": {},
   "source": [
    "Tendo em conta que existem features com mais importância do que outras, seria interessante implementar um modelo com atenção em Deep Learning, dando mais peso às features mais importantes."
   ]
  },
  {
   "cell_type": "markdown",
   "id": "8144950b",
   "metadata": {},
   "source": [
    "Primeiramente, os dados foram divididos em conjuntos de treino, teste e validação para melhorar os resultados no ajuste do modelo. \n",
    "\n",
    "Foram treinados 5 modelos, nomeadamente Linear Regression, KNN, RF, SVM e AdaBoost. Verificamos que o modelo que apresentou melhor resultado nas métricas, nomeadamente R-squared, MSE e MAE, foi o Random Forest, onde se verificou que as características selecionadas são representativas da estrutura subjacente dos dados, e o modelo é capaz de generalizar bem para novos dados. Isso também pode indicar que o modelo não sofre de overfitting.\n",
    "\n",
    "Depois fez-se a otimização de hiperparâmetros, onde não se verificou melhoria significativa, que na verdade, a pontuação diminuiu:\n",
    "MSE (Inicial):      168.209227\n",
    "MAE (Inicial) :    9.185011\n",
    "R-squared (Inicial):    0.501247\n",
    "\n",
    "MSE (Teste - Final): 172,64\n",
    "MAE (Teste - Final): 9,33\n",
    "R-squared (Teste - Final): 0,49\n",
    "\n",
    "Por fim, verificou-se a importância de features, no entanto a diferença não era significativa, o que faz sentido pois  temos um dataset robusto, após todo o processamento.\n",
    "\n"
   ]
  }
 ],
 "metadata": {
  "kernelspec": {
   "display_name": "Python 3",
   "language": "python",
   "name": "python3"
  },
  "language_info": {
   "codemirror_mode": {
    "name": "ipython",
    "version": 3
   },
   "file_extension": ".py",
   "mimetype": "text/x-python",
   "name": "python",
   "nbconvert_exporter": "python",
   "pygments_lexer": "ipython3",
   "version": "3.9.13"
  }
 },
 "nbformat": 4,
 "nbformat_minor": 5
}
